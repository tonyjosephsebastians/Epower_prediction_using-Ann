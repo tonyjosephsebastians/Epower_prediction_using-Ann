{
  "nbformat": 4,
  "nbformat_minor": 0,
  "metadata": {
    "colab": {
      "name": "Copy of Artificial Neural Network",
      "provenance": [],
      "collapsed_sections": [],
      "toc_visible": true
    },
    "kernelspec": {
      "name": "python3",
      "display_name": "Python 3"
    }
  },
  "cells": [
    {
      "cell_type": "markdown",
      "metadata": {
        "id": "3cbb7fRy-eyr"
      },
      "source": [
        "# Artificial Neural Network"
      ]
    },
    {
      "cell_type": "markdown",
      "metadata": {
        "id": "8sNDnxE2-pwE"
      },
      "source": [
        "### Importing the libraries"
      ]
    },
    {
      "cell_type": "code",
      "metadata": {
        "id": "lxChR1Rk-umf"
      },
      "source": [
        "import numpy as np\n",
        "import pandas as pd\n",
        "import tensorflow as tf"
      ],
      "execution_count": 1,
      "outputs": []
    },
    {
      "cell_type": "code",
      "metadata": {
        "id": "uBTqR3nacj0e",
        "colab": {
          "base_uri": "https://localhost:8080/",
          "height": 35
        },
        "outputId": "2b2145b1-4ca4-4da1-fade-e80857e1319b"
      },
      "source": [
        "tf.__version__"
      ],
      "execution_count": 2,
      "outputs": [
        {
          "output_type": "execute_result",
          "data": {
            "application/vnd.google.colaboratory.intrinsic+json": {
              "type": "string"
            },
            "text/plain": [
              "'2.4.0'"
            ]
          },
          "metadata": {
            "tags": []
          },
          "execution_count": 2
        }
      ]
    },
    {
      "cell_type": "markdown",
      "metadata": {
        "id": "AG3FQEch-yuA"
      },
      "source": [
        "## Part 1 - Data Preprocessing"
      ]
    },
    {
      "cell_type": "markdown",
      "metadata": {
        "id": "-4zq8Mza_D9O"
      },
      "source": [
        "### Importing the dataset"
      ]
    },
    {
      "cell_type": "code",
      "metadata": {
        "id": "B9CV13Co_HHM"
      },
      "source": [
        "dataset = pd.read_excel('Folds5x2_pp.xlsx')\n",
        "X = dataset.iloc[:, :-1].values\n",
        "y = dataset.iloc[:, -1].values"
      ],
      "execution_count": 4,
      "outputs": []
    },
    {
      "cell_type": "markdown",
      "metadata": {
        "id": "VC6omXel_Up0"
      },
      "source": [
        "### Splitting the dataset into the Training set and Test set"
      ]
    },
    {
      "cell_type": "code",
      "metadata": {
        "id": "L5edeb2r_agx"
      },
      "source": [
        "from sklearn.model_selection import train_test_split\n",
        "X_train, X_test, y_train, y_test = train_test_split(X, y, test_size = 0.2, random_state = 0)"
      ],
      "execution_count": 5,
      "outputs": []
    },
    {
      "cell_type": "markdown",
      "metadata": {
        "id": "_mSLlAT9_eyI"
      },
      "source": [
        "## Part 2 - Building the ANN"
      ]
    },
    {
      "cell_type": "markdown",
      "metadata": {
        "id": "CsBULd_f_wLY"
      },
      "source": [
        "### Initializing the ANN"
      ]
    },
    {
      "cell_type": "code",
      "metadata": {
        "id": "NF8DqirLDZ6d"
      },
      "source": [
        "ann = tf.keras.models.Sequential()"
      ],
      "execution_count": 6,
      "outputs": []
    },
    {
      "cell_type": "markdown",
      "metadata": {
        "id": "iitAFJS_ABUn"
      },
      "source": [
        "### Adding the input layer and the first hidden layer"
      ]
    },
    {
      "cell_type": "code",
      "metadata": {
        "id": "AUM0f4RTDkPi"
      },
      "source": [
        "ann.add(tf.keras.layers.Dense(units=6 ,activation = 'relu'))"
      ],
      "execution_count": 8,
      "outputs": []
    },
    {
      "cell_type": "markdown",
      "metadata": {
        "id": "-lb4kK_wAKbs"
      },
      "source": [
        "### Adding the second hidden layer"
      ]
    },
    {
      "cell_type": "code",
      "metadata": {
        "id": "PLdil6oLFIJu"
      },
      "source": [
        "ann.add(tf.keras.layers.Dense(units=6 ,activation = 'relu'))"
      ],
      "execution_count": 9,
      "outputs": []
    },
    {
      "cell_type": "markdown",
      "metadata": {
        "id": "jwMOmKb3AdBY"
      },
      "source": [
        "### Adding the output layer"
      ]
    },
    {
      "cell_type": "code",
      "metadata": {
        "id": "FPNcgZF6FZsT"
      },
      "source": [
        "ann.add(tf.keras.layers.Dense(units=1 ,activation = 'relu'))"
      ],
      "execution_count": 11,
      "outputs": []
    },
    {
      "cell_type": "markdown",
      "metadata": {
        "id": "fq7e4fF6A1yy"
      },
      "source": [
        "## Part 3 - Training the ANN"
      ]
    },
    {
      "cell_type": "markdown",
      "metadata": {
        "id": "qDeylAs2An25"
      },
      "source": [
        "### Compiling the ANN"
      ]
    },
    {
      "cell_type": "code",
      "metadata": {
        "id": "FnFyTqxJGj5U"
      },
      "source": [
        "ann.compile(optimizer= 'adam' , loss='mean_squared_error')"
      ],
      "execution_count": 12,
      "outputs": []
    },
    {
      "cell_type": "markdown",
      "metadata": {
        "id": "YjVuiybYOo7r"
      },
      "source": [
        "### Training the ANN model on the Training set"
      ]
    },
    {
      "cell_type": "code",
      "metadata": {
        "colab": {
          "base_uri": "https://localhost:8080/"
        },
        "id": "E-GlYen6GxUu",
        "outputId": "2b04a6aa-8044-4142-8d56-1a78160bcba8"
      },
      "source": [
        "ann.fit(X_train,y_train,batch_size = 32,epochs= 100)"
      ],
      "execution_count": 13,
      "outputs": [
        {
          "output_type": "stream",
          "text": [
            "Epoch 1/100\n",
            "240/240 [==============================] - 1s 1ms/step - loss: 128677.2520\n",
            "Epoch 2/100\n",
            "240/240 [==============================] - 0s 1ms/step - loss: 915.1045\n",
            "Epoch 3/100\n",
            "240/240 [==============================] - 0s 1ms/step - loss: 297.1027\n",
            "Epoch 4/100\n",
            "240/240 [==============================] - 0s 1ms/step - loss: 294.0271\n",
            "Epoch 5/100\n",
            "240/240 [==============================] - 0s 1ms/step - loss: 281.0784\n",
            "Epoch 6/100\n",
            "240/240 [==============================] - 0s 1ms/step - loss: 280.6194\n",
            "Epoch 7/100\n",
            "240/240 [==============================] - 0s 1ms/step - loss: 260.6403\n",
            "Epoch 8/100\n",
            "240/240 [==============================] - 0s 1ms/step - loss: 257.7632\n",
            "Epoch 9/100\n",
            "240/240 [==============================] - 0s 1ms/step - loss: 242.0208\n",
            "Epoch 10/100\n",
            "240/240 [==============================] - 0s 1ms/step - loss: 226.5026\n",
            "Epoch 11/100\n",
            "240/240 [==============================] - 0s 1ms/step - loss: 208.7093\n",
            "Epoch 12/100\n",
            "240/240 [==============================] - 0s 1ms/step - loss: 197.0741\n",
            "Epoch 13/100\n",
            "240/240 [==============================] - 0s 1ms/step - loss: 183.6043\n",
            "Epoch 14/100\n",
            "240/240 [==============================] - 0s 1ms/step - loss: 169.6190\n",
            "Epoch 15/100\n",
            "240/240 [==============================] - 0s 1ms/step - loss: 149.7488\n",
            "Epoch 16/100\n",
            "240/240 [==============================] - 0s 1ms/step - loss: 135.2461\n",
            "Epoch 17/100\n",
            "240/240 [==============================] - 0s 1ms/step - loss: 121.3287\n",
            "Epoch 18/100\n",
            "240/240 [==============================] - 0s 973us/step - loss: 105.4393\n",
            "Epoch 19/100\n",
            "240/240 [==============================] - 0s 1ms/step - loss: 93.2186\n",
            "Epoch 20/100\n",
            "240/240 [==============================] - 0s 1ms/step - loss: 82.4552\n",
            "Epoch 21/100\n",
            "240/240 [==============================] - 0s 1ms/step - loss: 72.2278\n",
            "Epoch 22/100\n",
            "240/240 [==============================] - 0s 959us/step - loss: 64.5911\n",
            "Epoch 23/100\n",
            "240/240 [==============================] - 0s 934us/step - loss: 57.1162\n",
            "Epoch 24/100\n",
            "240/240 [==============================] - 0s 1ms/step - loss: 51.6300\n",
            "Epoch 25/100\n",
            "240/240 [==============================] - 0s 940us/step - loss: 47.9164\n",
            "Epoch 26/100\n",
            "240/240 [==============================] - 0s 1ms/step - loss: 45.6260\n",
            "Epoch 27/100\n",
            "240/240 [==============================] - 0s 970us/step - loss: 42.6298\n",
            "Epoch 28/100\n",
            "240/240 [==============================] - 0s 995us/step - loss: 40.2922\n",
            "Epoch 29/100\n",
            "240/240 [==============================] - 0s 1ms/step - loss: 38.9406\n",
            "Epoch 30/100\n",
            "240/240 [==============================] - 0s 922us/step - loss: 38.5928\n",
            "Epoch 31/100\n",
            "240/240 [==============================] - 0s 968us/step - loss: 37.1102\n",
            "Epoch 32/100\n",
            "240/240 [==============================] - 0s 1ms/step - loss: 37.1061\n",
            "Epoch 33/100\n",
            "240/240 [==============================] - 0s 980us/step - loss: 36.9722\n",
            "Epoch 34/100\n",
            "240/240 [==============================] - 0s 926us/step - loss: 34.3569\n",
            "Epoch 35/100\n",
            "240/240 [==============================] - 0s 1ms/step - loss: 35.3431\n",
            "Epoch 36/100\n",
            "240/240 [==============================] - 0s 954us/step - loss: 33.8996\n",
            "Epoch 37/100\n",
            "240/240 [==============================] - 0s 963us/step - loss: 32.9447\n",
            "Epoch 38/100\n",
            "240/240 [==============================] - 0s 1ms/step - loss: 32.6627\n",
            "Epoch 39/100\n",
            "240/240 [==============================] - 0s 951us/step - loss: 32.6895\n",
            "Epoch 40/100\n",
            "240/240 [==============================] - 0s 1ms/step - loss: 32.2598\n",
            "Epoch 41/100\n",
            "240/240 [==============================] - 0s 912us/step - loss: 31.6904\n",
            "Epoch 42/100\n",
            "240/240 [==============================] - 0s 870us/step - loss: 32.2979\n",
            "Epoch 43/100\n",
            "240/240 [==============================] - 0s 850us/step - loss: 30.1785\n",
            "Epoch 44/100\n",
            "240/240 [==============================] - 0s 907us/step - loss: 30.4467\n",
            "Epoch 45/100\n",
            "240/240 [==============================] - 0s 1ms/step - loss: 30.1280\n",
            "Epoch 46/100\n",
            "240/240 [==============================] - 0s 1000us/step - loss: 28.9965\n",
            "Epoch 47/100\n",
            "240/240 [==============================] - 0s 920us/step - loss: 30.8790\n",
            "Epoch 48/100\n",
            "240/240 [==============================] - 0s 981us/step - loss: 29.1115\n",
            "Epoch 49/100\n",
            "240/240 [==============================] - 0s 997us/step - loss: 29.1262\n",
            "Epoch 50/100\n",
            "240/240 [==============================] - 0s 909us/step - loss: 28.8175\n",
            "Epoch 51/100\n",
            "240/240 [==============================] - 0s 931us/step - loss: 31.1971\n",
            "Epoch 52/100\n",
            "240/240 [==============================] - 0s 929us/step - loss: 29.0490\n",
            "Epoch 53/100\n",
            "240/240 [==============================] - 0s 957us/step - loss: 28.8714\n",
            "Epoch 54/100\n",
            "240/240 [==============================] - 0s 961us/step - loss: 28.8900\n",
            "Epoch 55/100\n",
            "240/240 [==============================] - 0s 981us/step - loss: 29.7203\n",
            "Epoch 56/100\n",
            "240/240 [==============================] - 0s 989us/step - loss: 28.2344\n",
            "Epoch 57/100\n",
            "240/240 [==============================] - 0s 968us/step - loss: 27.3449\n",
            "Epoch 58/100\n",
            "240/240 [==============================] - 0s 1ms/step - loss: 27.3898\n",
            "Epoch 59/100\n",
            "240/240 [==============================] - 0s 912us/step - loss: 28.6307\n",
            "Epoch 60/100\n",
            "240/240 [==============================] - 0s 906us/step - loss: 27.9502\n",
            "Epoch 61/100\n",
            "240/240 [==============================] - 0s 923us/step - loss: 28.9040\n",
            "Epoch 62/100\n",
            "240/240 [==============================] - 0s 990us/step - loss: 26.9630\n",
            "Epoch 63/100\n",
            "240/240 [==============================] - 0s 926us/step - loss: 28.7941\n",
            "Epoch 64/100\n",
            "240/240 [==============================] - 0s 931us/step - loss: 27.8100\n",
            "Epoch 65/100\n",
            "240/240 [==============================] - 0s 981us/step - loss: 26.8557\n",
            "Epoch 66/100\n",
            "240/240 [==============================] - 0s 963us/step - loss: 27.5700\n",
            "Epoch 67/100\n",
            "240/240 [==============================] - 0s 1ms/step - loss: 27.6655\n",
            "Epoch 68/100\n",
            "240/240 [==============================] - 0s 960us/step - loss: 28.1620\n",
            "Epoch 69/100\n",
            "240/240 [==============================] - 0s 998us/step - loss: 27.2672\n",
            "Epoch 70/100\n",
            "240/240 [==============================] - 0s 939us/step - loss: 27.5451\n",
            "Epoch 71/100\n",
            "240/240 [==============================] - 0s 1ms/step - loss: 26.9827\n",
            "Epoch 72/100\n",
            "240/240 [==============================] - 0s 993us/step - loss: 27.1522\n",
            "Epoch 73/100\n",
            "240/240 [==============================] - 0s 933us/step - loss: 26.9464\n",
            "Epoch 74/100\n",
            "240/240 [==============================] - 0s 940us/step - loss: 26.0945\n",
            "Epoch 75/100\n",
            "240/240 [==============================] - 0s 1ms/step - loss: 26.5193\n",
            "Epoch 76/100\n",
            "240/240 [==============================] - 0s 972us/step - loss: 26.5823\n",
            "Epoch 77/100\n",
            "240/240 [==============================] - 0s 1ms/step - loss: 26.8329\n",
            "Epoch 78/100\n",
            "240/240 [==============================] - 0s 964us/step - loss: 27.2520\n",
            "Epoch 79/100\n",
            "240/240 [==============================] - 0s 950us/step - loss: 27.3699\n",
            "Epoch 80/100\n",
            "240/240 [==============================] - 0s 952us/step - loss: 27.3943\n",
            "Epoch 81/100\n",
            "240/240 [==============================] - 0s 1ms/step - loss: 27.0335\n",
            "Epoch 82/100\n",
            "240/240 [==============================] - 0s 986us/step - loss: 26.8400\n",
            "Epoch 83/100\n",
            "240/240 [==============================] - 0s 1ms/step - loss: 25.6794\n",
            "Epoch 84/100\n",
            "240/240 [==============================] - 0s 998us/step - loss: 27.8533\n",
            "Epoch 85/100\n",
            "240/240 [==============================] - 0s 1ms/step - loss: 27.2572\n",
            "Epoch 86/100\n",
            "240/240 [==============================] - 0s 1ms/step - loss: 26.3758\n",
            "Epoch 87/100\n",
            "240/240 [==============================] - 0s 992us/step - loss: 27.4761\n",
            "Epoch 88/100\n",
            "240/240 [==============================] - 0s 1ms/step - loss: 28.0026\n",
            "Epoch 89/100\n",
            "240/240 [==============================] - 0s 1ms/step - loss: 26.4898\n",
            "Epoch 90/100\n",
            "240/240 [==============================] - 0s 954us/step - loss: 26.0372\n",
            "Epoch 91/100\n",
            "240/240 [==============================] - 0s 1ms/step - loss: 27.1022\n",
            "Epoch 92/100\n",
            "240/240 [==============================] - 0s 1ms/step - loss: 26.4455\n",
            "Epoch 93/100\n",
            "240/240 [==============================] - 0s 964us/step - loss: 26.9167\n",
            "Epoch 94/100\n",
            "240/240 [==============================] - 0s 943us/step - loss: 26.7157\n",
            "Epoch 95/100\n",
            "240/240 [==============================] - 0s 1ms/step - loss: 26.6597\n",
            "Epoch 96/100\n",
            "240/240 [==============================] - 0s 1ms/step - loss: 27.0383\n",
            "Epoch 97/100\n",
            "240/240 [==============================] - 0s 973us/step - loss: 26.5825\n",
            "Epoch 98/100\n",
            "240/240 [==============================] - 0s 1ms/step - loss: 27.5767\n",
            "Epoch 99/100\n",
            "240/240 [==============================] - 0s 1ms/step - loss: 27.2001\n",
            "Epoch 100/100\n",
            "240/240 [==============================] - 0s 1ms/step - loss: 27.3533\n"
          ],
          "name": "stdout"
        },
        {
          "output_type": "execute_result",
          "data": {
            "text/plain": [
              "<tensorflow.python.keras.callbacks.History at 0x7ff98ec3a7b8>"
            ]
          },
          "metadata": {
            "tags": []
          },
          "execution_count": 13
        }
      ]
    },
    {
      "cell_type": "markdown",
      "metadata": {
        "id": "0H0zKKNEBLD5"
      },
      "source": [
        "### Predicting the results of the Test set"
      ]
    },
    {
      "cell_type": "code",
      "metadata": {
        "colab": {
          "base_uri": "https://localhost:8080/"
        },
        "id": "BiXurRGqJiRd",
        "outputId": "e39a4b76-6e3f-48ef-c322-6931a9bf01f0"
      },
      "source": [
        "y_pred =ann.predict(X_test)\r\n",
        "np.set_printoptions(precision=2)\r\n",
        "print(np.concatenate(( y_pred.reshape(len(y_pred),1) ,y_test.reshape(len(y_test),1)) ,1))"
      ],
      "execution_count": 22,
      "outputs": [
        {
          "output_type": "stream",
          "text": [
            "[[428.77 431.23]\n",
            " [460.07 460.01]\n",
            " [463.71 461.14]\n",
            " ...\n",
            " [470.64 473.26]\n",
            " [438.07 438.  ]\n",
            " [457.01 463.28]]\n"
          ],
          "name": "stdout"
        }
      ]
    }
  ]
}